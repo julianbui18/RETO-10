{
 "cells": [
  {
   "cell_type": "markdown",
   "id": "79a0b200",
   "metadata": {},
   "source": [
    "PUNTO 1"
   ]
  },
  {
   "cell_type": "markdown",
   "id": "68fa1b00",
   "metadata": {},
   "source": [
    "SUMA"
   ]
  },
  {
   "cell_type": "code",
   "execution_count": 1,
   "metadata": {},
   "outputs": [
    {
     "name": "stdout",
     "output_type": "stream",
     "text": [
      "Suma de dos matrices\n",
      "Ingresar los valores de la matriz A:\n",
      "Ingresar los valores de la matriz B:\n",
      "La matriz resultado de la suma es:\n",
      "2.0  4.0  \n",
      "4.0  3.0  \n"
     ]
    }
   ],
   "source": [
    "def pedir_matriz(nombre_matriz):\n",
    "    filas = int(input(\"Cuántas filas tiene la matriz \" + nombre_matriz + \": \"))\n",
    "    columnas = int(input(\"Cuántas columnas tiene la matriz \" + nombre_matriz + \": \"))\n",
    "    print(\"Ingresar los valores de la matriz \" + nombre_matriz + \":\")\n",
    "    matriz = [] \n",
    "    for fila_actual in range(filas):\n",
    "        fila_nueva = [] \n",
    "        for columna_actual in range(columnas):\n",
    "            mensaje = \"Valor en la posición [\" + str(fila_actual) + \"][\" + str(columna_actual) + \"]: \"\n",
    "            numero = float(input(mensaje))  \n",
    "            fila_nueva.append(numero) \n",
    "        matriz.append(fila_nueva)  \n",
    "\n",
    "    return matriz, filas, columnas \n",
    "\n",
    "def mostrar_matriz(matriz):\n",
    "    for fila in matriz:\n",
    "        linea = \"\" \n",
    "        for valor in fila:\n",
    "            linea += str(valor) + \"  \" \n",
    "        print(linea) \n",
    "\n",
    "def sumar(matriz1, matriz2):\n",
    "    resultado = []  \n",
    "\n",
    "    for fila_actual in range(len(matriz1)):\n",
    "        fila_suma = [] \n",
    "        for columna_actual in range(len(matriz1[0])):\n",
    "            suma = matriz1[fila_actual][columna_actual] + matriz2[fila_actual][columna_actual]\n",
    "            fila_suma.append(suma)  \n",
    "        resultado.append(fila_suma) \n",
    "\n",
    "    return resultado  \n",
    "\n",
    "print(\"Suma de dos matrices\")\n",
    "\n",
    "matrizA, filasA, columnasA = pedir_matriz(\"A\")\n",
    "matrizB, filasB, columnasB = pedir_matriz(\"B\")\n",
    "if filasA != filasB or columnasA != columnasB:\n",
    "    print(\"Error: Las matrices deben tener el mismo tamaño.\")\n",
    "else:\n",
    "    resultado = sumar(matrizA, matrizB)\n",
    "    print(\"La matriz resultado de la suma es:\")\n",
    "    mostrar_matriz(resultado)  "
   ]
  },
  {
   "cell_type": "markdown",
   "id": "5071934a",
   "metadata": {},
   "source": [
    "RESTA"
   ]
  },
  {
   "cell_type": "code",
   "execution_count": 2,
   "id": "cc70665b",
   "metadata": {},
   "outputs": [
    {
     "name": "stdout",
     "output_type": "stream",
     "text": [
      "Resta de dos matrices\n",
      "Ingresar los valores de la matriz A:\n",
      "Ingresar los valores de la matriz B:\n",
      "La matriz resultado de la resta es:\n",
      "-3.0  -3.0  \n",
      "-3.0  -5.0  \n"
     ]
    }
   ],
   "source": [
    "def pedir_matriz(nombre_matriz):\n",
    "    filas = int(input(\"Cuántas filas tiene la matriz \" + nombre_matriz + \": \"))\n",
    "    columnas = int(input(\"Cuántas columnas tiene la matriz \" + nombre_matriz + \": \"))\n",
    "    print(\"Ingresar los valores de la matriz \" + nombre_matriz + \":\")\n",
    "    matriz = [] \n",
    "    for fila_actual in range(filas):\n",
    "        fila_nueva = [] \n",
    "        for columna_actual in range(columnas):\n",
    "            mensaje = \"Valor en la posición [\" + str(fila_actual) + \"][\" + str(columna_actual) + \"]: \"\n",
    "            numero = float(input(mensaje))  \n",
    "            fila_nueva.append(numero) \n",
    "        matriz.append(fila_nueva) \n",
    "\n",
    "    return matriz, filas, columnas  \n",
    "\n",
    "def mostrar_matriz(matriz):\n",
    "    for fila in matriz:\n",
    "        linea = \"\"  \n",
    "        for valor in fila:\n",
    "            linea += str(valor) + \"  \"  \n",
    "        print(linea) \n",
    "\n",
    "def restar(matriz1, matriz2):\n",
    "    resultado = []  \n",
    "    for fila_actual in range(len(matriz1)):\n",
    "        fila_resta = []  \n",
    "        for columna_actual in range(len(matriz1[0])):\n",
    "            resta = matriz1[fila_actual][columna_actual] - matriz2[fila_actual][columna_actual]\n",
    "            fila_resta.append(resta)  \n",
    "        resultado.append(fila_resta)  \n",
    "\n",
    "    return resultado \n",
    "\n",
    "print(\"Resta de dos matrices\")\n",
    "matrizA, filasA, columnasA = pedir_matriz(\"A\")\n",
    "matrizB, filasB, columnasB = pedir_matriz(\"B\")\n",
    "if filasA != filasB or columnasA != columnasB:\n",
    "    print(\"Error: Las matrices deben tener el mismo tamaño.\")\n",
    "else:\n",
    "    resultado = restar(matrizA, matrizB)\n",
    "    print(\"La matriz resultado de la resta es:\")\n",
    "    mostrar_matriz(resultado)  "
   ]
  },
  {
   "cell_type": "markdown",
   "id": "27c35545",
   "metadata": {},
   "source": [
    "PUNTO 2"
   ]
  },
  {
   "cell_type": "code",
   "execution_count": 3,
   "id": "9e10a2f3",
   "metadata": {},
   "outputs": [
    {
     "name": "stdout",
     "output_type": "stream",
     "text": [
      "Multiplicación de dos matrices\n",
      "Ingresar los valores de la matriz A:\n",
      "Ingresar los valores de la matriz B:\n",
      "El resultado de la multiplicación es:\n",
      "29.0  36.0  \n",
      "45.0  56.0  \n"
     ]
    }
   ],
   "source": [
    "def pedir_matriz(nombre_matriz):\n",
    "    filas = int(input(\"Cuántas filas tiene la matriz \" + nombre_matriz + \": \"))\n",
    "    columnas = int(input(\"Cuántas columnas tiene la matriz \" + nombre_matriz + \": \"))\n",
    "    print(\"Ingresar los valores de la matriz \" + nombre_matriz + \":\")\n",
    "    matriz = []\n",
    "    for fila_actual in range(filas):\n",
    "        fila_nueva = []\n",
    "        for columna_actual in range(columnas):\n",
    "            mensaje = \"Valor en la posición [\" + str(fila_actual) + \"][\" + str(columna_actual) + \"]: \"\n",
    "            numero = float(input(mensaje))\n",
    "            fila_nueva.append(numero)\n",
    "        matriz.append(fila_nueva)\n",
    "\n",
    "    return matriz, filas, columnas\n",
    "\n",
    "def mostrar_matriz(matriz):\n",
    "    for fila in matriz:\n",
    "        linea = \"\"\n",
    "        for valor in fila:\n",
    "            linea += str(valor) + \"  \"\n",
    "        print(linea)\n",
    "\n",
    "def multiplicar_matrices(matriz1, matriz2):\n",
    "    resultado = []\n",
    "    for fila_actual in range(len(matriz1)):\n",
    "        fila_resultado = []\n",
    "        for columna_actual in range(len(matriz2[0])):\n",
    "            suma = 0  \n",
    "            for posicion in range(len(matriz2)):\n",
    "                valor1 = matriz1[fila_actual][posicion]\n",
    "                valor2 = matriz2[posicion][columna_actual]\n",
    "                suma += valor1 * valor2\n",
    "            fila_resultado.append(suma)\n",
    "        resultado.append(fila_resultado)\n",
    "\n",
    "    return resultado\n",
    "\n",
    "print(\"Multiplicación de dos matrices\")\n",
    "matrizA, filasA, columnasA = pedir_matriz(\"A\")\n",
    "matrizB, filasB, columnasB = pedir_matriz(\"B\")\n",
    "if columnasA != filasB:\n",
    "    print(\"Error: No se pueden multiplicar. Las columnas de A deben ser iguales a las filas de B.\")\n",
    "else:\n",
    "    resultado = multiplicar_matrices(matrizA, matrizB)\n",
    "    print(\"El resultado de la multiplicación es:\")\n",
    "    mostrar_matriz(resultado)"
   ]
  },
  {
   "cell_type": "markdown",
   "id": "7badbda9",
   "metadata": {},
   "source": [
    "PUNTO 3"
   ]
  },
  {
   "cell_type": "code",
   "execution_count": 4,
   "id": "a9968700",
   "metadata": {},
   "outputs": [
    {
     "name": "stdout",
     "output_type": "stream",
     "text": [
      "Obtener la matriz transpuesta\n",
      "Ingresar los valores de la matriz Original:\n",
      "La matriz original es:\n",
      "2.0  3.0  \n",
      "4.0  4.0  \n",
      "Su matriz transpuesta es:\n",
      "2.0  4.0  \n",
      "3.0  4.0  \n"
     ]
    }
   ],
   "source": [
    "def pedir_matriz(nombre_matriz):\n",
    "    filas = int(input(\"¿Cuántas filas tiene la matriz \" + nombre_matriz + \"? \"))\n",
    "    columnas = int(input(\"¿Cuántas columnas tiene la matriz \" + nombre_matriz + \"? \"))\n",
    "    print(\"Ingresar los valores de la matriz \" + nombre_matriz + \":\")\n",
    "    matriz = []\n",
    "    for fila_actual in range(filas):\n",
    "        fila_nueva = []\n",
    "        for columna_actual in range(columnas):\n",
    "            mensaje = \"Valor en la posición [\" + str(fila_actual) + \"][\" + str(columna_actual) + \"]: \"\n",
    "            numero = float(input(mensaje))\n",
    "            fila_nueva.append(numero)\n",
    "        matriz.append(fila_nueva)\n",
    "\n",
    "    return matriz, filas, columnas\n",
    "\n",
    "def mostrar_matriz(matriz):\n",
    "    for fila in matriz:\n",
    "        linea = \"\"\n",
    "        for valor in fila:\n",
    "            linea += str(valor) + \"  \"\n",
    "        print(linea)\n",
    "\n",
    "def transponer_matriz(matriz_original):\n",
    "    filas = len(matriz_original)\n",
    "    columnas = len(matriz_original[0])\n",
    "    matriz_transpuesta = []\n",
    "    for columna_actual in range(columnas):\n",
    "        nueva_fila = []\n",
    "        for fila_actual in range(filas):\n",
    "            valor = matriz_original[fila_actual][columna_actual]\n",
    "            nueva_fila.append(valor)\n",
    "        matriz_transpuesta.append(nueva_fila)\n",
    "\n",
    "    return matriz_transpuesta\n",
    "\n",
    "print(\"Obtener la matriz transpuesta\")\n",
    "matriz_usuario, cantidad_filas, cantidad_columnas = pedir_matriz(\"Original\")\n",
    "if cantidad_filas < 1 or cantidad_columnas < 1:\n",
    "    print(\"Error: La matriz debe tener al menos una fila y una columna.\")\n",
    "else:\n",
    "    resultado_transpuesta = transponer_matriz(matriz_usuario)\n",
    "    print(\"La matriz original es:\")\n",
    "    mostrar_matriz(matriz_usuario)\n",
    "    print(\"Su matriz transpuesta es:\")\n",
    "    mostrar_matriz(resultado_transpuesta)"
   ]
  },
  {
   "cell_type": "markdown",
   "id": "b4e5cd3c",
   "metadata": {},
   "source": [
    "PUNTO 4"
   ]
  },
  {
   "cell_type": "code",
   "execution_count": 5,
   "id": "acf199b9",
   "metadata": {},
   "outputs": [
    {
     "name": "stdout",
     "output_type": "stream",
     "text": [
      "Sumar los elementos de una columna específica de una matriz\n",
      "Ingresar los valores de la matriz A:\n",
      "La matriz ingresada es:\n",
      "3.0  4.0  \n",
      "5.0  6.0  \n",
      "La suma de los elementos de la columna 1 es: 10.0\n"
     ]
    }
   ],
   "source": [
    "def pedir_matriz(nombre_matriz):\n",
    "    filas = int(input(\"¿Cuántas filas tiene la matriz \" + nombre_matriz + \"? \"))\n",
    "    columnas = int(input(\"¿Cuántas columnas tiene la matriz \" + nombre_matriz + \"? \"))\n",
    "    print(\"Ingresar los valores de la matriz \" + nombre_matriz + \":\")\n",
    "    matriz = []\n",
    "    for fila_actual in range(filas):\n",
    "        fila_nueva = []\n",
    "        for columna_actual in range(columnas):\n",
    "            mensaje = \"Valor en la posición [\" + str(fila_actual) + \"][\" + str(columna_actual) + \"]: \"\n",
    "            numero = float(input(mensaje))\n",
    "            fila_nueva.append(numero)\n",
    "        matriz.append(fila_nueva)\n",
    "\n",
    "    return matriz, filas, columnas\n",
    "\n",
    "def mostrar_matriz(matriz):\n",
    "    for fila in matriz:\n",
    "        linea = \"\"\n",
    "        for valor in fila:\n",
    "            linea += str(valor) + \"  \"\n",
    "        print(linea)\n",
    "\n",
    "def sumar_columna(matriz, numero_columna):\n",
    "    suma = 0\n",
    "    for fila in matriz:\n",
    "        suma += fila[numero_columna]\n",
    "\n",
    "    return suma\n",
    "\n",
    "print(\"Sumar los elementos de una columna específica de una matriz\")\n",
    "matriz_usuario, filas, columnas = pedir_matriz(\"A\")\n",
    "print(\"La matriz ingresada es:\")\n",
    "mostrar_matriz(matriz_usuario)\n",
    "columna_a_sumar = int(input(\"¿Qué número de columna desea sumar? (Empieza desde 0): \"))\n",
    "if columna_a_sumar < 0 or columna_a_sumar >= columnas:\n",
    "    print(\"Error: Esa columna no existe en la matriz.\")\n",
    "else:\n",
    "    resultado = sumar_columna(matriz_usuario, columna_a_sumar)\n",
    "    print(\"La suma de los elementos de la columna \" + str(columna_a_sumar) + \" es: \" + str(resultado))"
   ]
  },
  {
   "cell_type": "markdown",
   "id": "209abafb",
   "metadata": {},
   "source": [
    "PUNTO 5"
   ]
  },
  {
   "cell_type": "code",
   "execution_count": 6,
   "id": "4d10b3b6",
   "metadata": {},
   "outputs": [
    {
     "name": "stdout",
     "output_type": "stream",
     "text": [
      "Sumar los elementos de una fila específica de una matriz\n",
      "Ingresar los valores de la matriz A:\n",
      "La matriz ingresada es:\n",
      "3.0  5.0  \n",
      "7.0  8.0  \n",
      "La suma de los elementos de la fila 0 es: 8.0\n"
     ]
    }
   ],
   "source": [
    "def pedir_matriz(nombre_matriz):\n",
    "    filas = int(input(\"¿Cuántas filas tiene la matriz \" + nombre_matriz + \"? \"))\n",
    "    columnas = int(input(\"¿Cuántas columnas tiene la matriz \" + nombre_matriz + \"? \"))\n",
    "    print(\"Ingresar los valores de la matriz \" + nombre_matriz + \":\")\n",
    "    matriz = []\n",
    "    for fila_actual in range(filas):\n",
    "        fila_nueva = []\n",
    "        for columna_actual in range(columnas):\n",
    "            mensaje = \"Valor en la posición [\" + str(fila_actual) + \"][\" + str(columna_actual) + \"]: \"\n",
    "            numero = float(input(mensaje))\n",
    "            fila_nueva.append(numero)\n",
    "        matriz.append(fila_nueva)\n",
    "\n",
    "    return matriz, filas, columnas\n",
    "\n",
    "def mostrar_matriz(matriz):\n",
    "    for fila in matriz:\n",
    "        linea = \"\"\n",
    "        for valor in fila:\n",
    "            linea += str(valor) + \"  \"\n",
    "        print(linea)\n",
    "\n",
    "def sumar_fila(matriz, numero_fila):\n",
    "    fila_elegida = matriz[numero_fila]\n",
    "    suma = 0\n",
    "\n",
    "    for valor in fila_elegida:\n",
    "        suma += valor\n",
    "\n",
    "    return suma\n",
    "\n",
    "print(\"Sumar los elementos de una fila específica de una matriz\")\n",
    "matriz_usuario, filas, columnas = pedir_matriz(\"A\")\n",
    "print(\"La matriz ingresada es:\")\n",
    "mostrar_matriz(matriz_usuario)\n",
    "fila_a_sumar = int(input(\"¿Qué número de fila desea sumar? (Empieza desde 0): \"))\n",
    "if fila_a_sumar < 0 or fila_a_sumar >= filas:\n",
    "    print(\"Error: Esa fila no existe en la matriz.\")\n",
    "else:\n",
    "    resultado = sumar_fila(matriz_usuario, fila_a_sumar)\n",
    "    print(\"La suma de los elementos de la fila \" + str(fila_a_sumar) + \" es: \" + str(resultado))"
   ]
  }
 ],
 "metadata": {
  "kernelspec": {
   "display_name": "Python 3",
   "language": "python",
   "name": "python3"
  },
  "language_info": {
   "codemirror_mode": {
    "name": "ipython",
    "version": 3
   },
   "file_extension": ".py",
   "mimetype": "text/x-python",
   "name": "python",
   "nbconvert_exporter": "python",
   "pygments_lexer": "ipython3",
   "version": "3.10.11"
  }
 },
 "nbformat": 4,
 "nbformat_minor": 5
}
